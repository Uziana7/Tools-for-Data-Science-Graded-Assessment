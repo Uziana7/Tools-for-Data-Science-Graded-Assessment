{
 "cells": [
  {
   "cell_type": "markdown",
   "id": "cd0ef757-7222-46f3-be1f-099e45072808",
   "metadata": {},
   "source": [
    "# **My Jupyter Notebook on IBM Watson Studio**"
   ]
  },
  {
   "cell_type": "markdown",
   "id": "9436ab6a-654c-4d64-829f-832607590177",
   "metadata": {},
   "source": [
    "**Unza Shakeel Rana** <br>\n",
    "I am a Bioinformatician and a Content Writer"
   ]
  },
  {
   "cell_type": "markdown",
   "id": "4d871a96-0a3c-461a-b035-8c5d36bbdb2a",
   "metadata": {},
   "source": [
    "_I am interested in Data Science because it uncovers a hidden message from a big data and I find it fascinating._"
   ]
  },
  {
   "cell_type": "markdown",
   "id": "47b5ff05-606b-48a0-9947-785a8d9fd042",
   "metadata": {},
   "source": [
    "### This Code will multiply 50 with 3 ###"
   ]
  },
  {
   "cell_type": "code",
   "execution_count": 3,
   "id": "563c8fe4-27b6-42a5-919d-3ed39589bffd",
   "metadata": {},
   "outputs": [
    {
     "data": {
      "text/plain": [
       "150"
      ]
     },
     "execution_count": 3,
     "metadata": {},
     "output_type": "execute_result"
    }
   ],
   "source": [
    "50 * 3"
   ]
  },
  {
   "cell_type": "markdown",
   "id": "bfecc2e1-09e3-4c22-8295-552d07eb4a2a",
   "metadata": {},
   "source": [
    "1. First\n",
    "2. Second\n",
    "3. Third\n",
    "4. Fourth \n",
    "5. Fifth <br>\n",
    "\n",
    "| 1 | 2 | 3 |\n",
    "|---|---|---|\n",
    "| 0 | 1 | 2 |\n",
    "| 3 | 4 | 5 |\n",
    "| 6 | 7 | 8 |\n",
    "\n",
    "<br>\n",
    "\n",
    "***\n",
    "<a href=www.google.com>Google</a>\n",
    "***\n",
    "\n"
   ]
  },
  {
   "cell_type": "code",
   "execution_count": null,
   "id": "b25e11cf-1904-4e91-b5f4-fb97a78105c5",
   "metadata": {},
   "outputs": [],
   "source": []
  }
 ],
 "metadata": {
  "kernelspec": {
   "display_name": "Python",
   "language": "python",
   "name": "conda-env-python-py"
  },
  "language_info": {
   "codemirror_mode": {
    "name": "ipython",
    "version": 3
   },
   "file_extension": ".py",
   "mimetype": "text/x-python",
   "name": "python",
   "nbconvert_exporter": "python",
   "pygments_lexer": "ipython3",
   "version": "3.7.12"
  }
 },
 "nbformat": 4,
 "nbformat_minor": 5
}
